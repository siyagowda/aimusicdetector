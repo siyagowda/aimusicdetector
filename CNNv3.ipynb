{
 "cells": [
  {
   "cell_type": "code",
   "execution_count": null,
   "id": "a2e2a677-50de-4dc3-bd8e-81cc7cdd6499",
   "metadata": {},
   "outputs": [],
   "source": [
    "# https://medium.com/@imabhi1216/fine-tuning-a-pre-trained-resnet-18-model-for-image-classification-on-custom-dataset-with-pytorch-02df12e83c2c"
   ]
  },
  {
   "cell_type": "code",
   "execution_count": 9,
   "id": "cb758001-71cd-4f91-87e2-ead710a73acb",
   "metadata": {},
   "outputs": [],
   "source": [
    "import os\n",
    "import shutil\n",
    "from sklearn.model_selection import train_test_split\n",
    "\n",
    "AI_CLASS = \"ai\"\n",
    "HUMAN_CLASS = \"human\"\n",
    "\n",
    "# Original path with mel_spec inside each label\n",
    "original_data_path = \"/data/sg2121/fypdataset/dataset/features\"\n",
    "binary_train_dest = os.path.join(original_data_path, \"binary_train\")\n",
    "binary_val_dest = os.path.join(original_data_path, \"binary_val\")\n",
    "binary_test_dest = os.path.join(original_data_path, \"binary_test\")"
   ]
  },
  {
   "cell_type": "code",
   "execution_count": 10,
   "id": "74abca3a-9726-4f46-b7bf-28345cf7f61e",
   "metadata": {},
   "outputs": [
    {
     "name": "stdout",
     "output_type": "stream",
     "text": [
      "Mel spectrograms split into train/val/test folders.\n"
     ]
    }
   ],
   "source": [
    "# Ensure folders exist\n",
    "for folder in [binary_train_dest, binary_val_dest, binary_test_dest]:\n",
    "    for label in [AI_CLASS, HUMAN_CLASS]:\n",
    "        os.makedirs(os.path.join(folder, label), exist_ok=True)\n",
    "\n",
    "def gather_and_split(class_name, val_size=0.15, test_size=0.15):\n",
    "    mel_spec_dir = os.path.join(original_data_path, class_name, \"Mel_Spectrogram\")\n",
    "    all_files = [os.path.join(mel_spec_dir, f) for f in os.listdir(mel_spec_dir) if f.endswith(\".png\")]\n",
    "\n",
    "    # Step 1: Train+Val and Test split\n",
    "    train_val_files, test_files = train_test_split(all_files, test_size=test_size, random_state=42)\n",
    "\n",
    "    # Step 2: Train and Val split\n",
    "    val_fraction = val_size / (1 - test_size)  # Adjust val split relative to train_val\n",
    "    train_files, val_files = train_test_split(train_val_files, test_size=val_fraction, random_state=42)\n",
    "\n",
    "    for file_list, dest_root in [\n",
    "        (train_files, binary_train_dest),\n",
    "        (val_files, binary_val_dest),\n",
    "        (test_files, binary_test_dest),\n",
    "    ]:\n",
    "        for fpath in file_list:\n",
    "            fname = os.path.basename(fpath)\n",
    "            dest = os.path.join(dest_root, class_name, fname)\n",
    "            shutil.copy(fpath, dest)\n",
    "\n",
    "# Run for both classes\n",
    "gather_and_split(AI_CLASS)\n",
    "gather_and_split(HUMAN_CLASS)\n",
    "\n",
    "print(\"Mel spectrograms split into train/val/test folders.\")"
   ]
  },
  {
   "cell_type": "code",
   "execution_count": 18,
   "id": "0d85cd97",
   "metadata": {
    "vscode": {
     "languageId": "plaintext"
    }
   },
   "outputs": [
    {
     "name": "stderr",
     "output_type": "stream",
     "text": [
      "/data/sg2121/fypdataset/venv/lib/python3.12/site-packages/torchvision/models/_utils.py:208: UserWarning: The parameter 'pretrained' is deprecated since 0.13 and may be removed in the future, please use 'weights' instead.\n",
      "  warnings.warn(\n",
      "/data/sg2121/fypdataset/venv/lib/python3.12/site-packages/torchvision/models/_utils.py:223: UserWarning: Arguments other than a weight enum or `None` for 'weights' are deprecated since 0.13 and may be removed in the future. The current behavior is equivalent to passing `weights=ResNet34_Weights.IMAGENET1K_V1`. You can also use `weights=ResNet34_Weights.DEFAULT` to get the most up-to-date weights.\n",
      "  warnings.warn(msg)\n",
      "Downloading: \"https://download.pytorch.org/models/resnet34-b627a593.pth\" to /homes/sg2121/.cache/torch/hub/checkpoints/resnet34-b627a593.pth\n",
      "100.0%\n"
     ]
    }
   ],
   "source": [
    "import torch\n",
    "import torchvision.models as models\n",
    "\n",
    "# Load the pre-trained ResNet-18 model\n",
    "model = models.resnet34(pretrained=True)"
   ]
  },
  {
   "cell_type": "code",
   "execution_count": 19,
   "id": "0bf7ce45-40ae-420c-8ed9-8205ce733db4",
   "metadata": {},
   "outputs": [],
   "source": [
    "# Modify the last layer of the model\n",
    "num_classes = 2 # replace with the number of classes in your dataset\n",
    "model.fc = torch.nn.Linear(model.fc.in_features, num_classes)"
   ]
  },
  {
   "cell_type": "code",
   "execution_count": 20,
   "id": "e96d1cd0-2821-4e8b-bf09-4e2753cfd422",
   "metadata": {},
   "outputs": [],
   "source": [
    "from torchvision.datasets import ImageFolder\n",
    "from torchvision.transforms import transforms\n",
    "from torch.utils.data import DataLoader\n",
    "\n",
    "# Define the transformations to apply to the images\n",
    "transform = transforms.Compose([\n",
    "    transforms.Resize(256),\n",
    "    transforms.CenterCrop(224),\n",
    "    transforms.ToTensor(),\n",
    "    transforms.Normalize(mean=[0.485, 0.456, 0.406], std=[0.229, 0.224, 0.225])\n",
    "])\n",
    "\n",
    "# Load the train and validation datasets\n",
    "\n",
    "train_dataset = ImageFolder('/data/sg2121/fypdataset/dataset/features/binary_train', transform=transform)\n",
    "val_dataset = ImageFolder('/data/sg2121/fypdataset/dataset/features/binary_val', transform=transform)\n",
    "test_dataset = ImageFolder('/data/sg2121/fypdataset/dataset/features/binary_test', transform=transform)\n",
    "\n",
    "\n",
    "\n",
    "train_loader = DataLoader(train_dataset, batch_size=32, shuffle=True)\n",
    "val_loader = DataLoader(val_dataset, batch_size=32, shuffle=False)\n",
    "test_loader = DataLoader(test_dataset, batch_size=32, shuffle=False)"
   ]
  },
  {
   "cell_type": "code",
   "execution_count": 29,
   "id": "62418974-76a5-4002-a2dd-59f2510a0536",
   "metadata": {},
   "outputs": [],
   "source": [
    "# Define the loss function and optimizer\n",
    "criterion = torch.nn.CrossEntropyLoss()\n",
    "optimizer = torch.optim.SGD(model.fc.parameters(), lr=0.001, momentum=0.9)"
   ]
  },
  {
   "cell_type": "code",
   "execution_count": 30,
   "id": "860831a5-b6b9-4b45-90a5-1c1ab10bbb66",
   "metadata": {},
   "outputs": [
    {
     "name": "stdout",
     "output_type": "stream",
     "text": [
      "cuda\n"
     ]
    }
   ],
   "source": [
    "# Determine whether to use GPU (if available) or CPU\n",
    "device = torch.device(\"mps\" if torch.backends.mps.is_available() else \"cuda\" if torch.cuda.is_available() else \"cpu\")\n",
    "print(device)\n",
    "\n",
    "def train(model, train_loader, val_loader, criterion, optimizer, num_epochs):\n",
    "    \n",
    "    for epoch in range(num_epochs):\n",
    "        # Set the model to training mode\n",
    "        model.train()\n",
    "\n",
    "        # Initialize running loss and correct predictions count for training\n",
    "        running_loss = 0.0\n",
    "        running_corrects = 0\n",
    "\n",
    "        # Iterate over the training data loader\n",
    "        for inputs, labels in train_loader:\n",
    "            # Move inputs and labels to the device (GPU or CPU)\n",
    "            inputs = inputs.to(device)\n",
    "            labels = labels.to(device)\n",
    "\n",
    "            # Reset the gradients to zero before the backward pass\n",
    "            optimizer.zero_grad()\n",
    "\n",
    "            # Forward pass: compute the model output\n",
    "            outputs = model(inputs)\n",
    "            # Get the predicted class (with the highest score)\n",
    "            _, preds = torch.max(outputs, 1)\n",
    "            # Compute the loss between the predictions and actual labels\n",
    "            loss = criterion(outputs, labels)\n",
    "\n",
    "            # Backward pass: compute gradients\n",
    "            loss.backward()\n",
    "            # Perform the optimization step to update model parameters\n",
    "            optimizer.step()\n",
    "\n",
    "            # Accumulate the running loss and the number of correct predictions\n",
    "            running_loss += loss.item() * inputs.size(0)\n",
    "            running_corrects += torch.sum(preds == labels.data)\n",
    "\n",
    "        # Compute average training loss and accuracy for this epoch\n",
    "        train_loss = running_loss / len(train_loader.dataset)\n",
    "        train_acc = running_corrects.float() / len(train_loader.dataset)\n",
    "\n",
    "        # Set the model to evaluation mode for validation\n",
    "        model.eval()\n",
    "        # Initialize running loss and correct predictions count for validation\n",
    "        running_loss = 0.0\n",
    "        running_corrects = 0\n",
    "\n",
    "        # Disable gradient computation for validation (saves memory and computations)\n",
    "        with torch.no_grad():\n",
    "            # Iterate over the validation data loader\n",
    "            for inputs, labels in val_loader:\n",
    "                # Move inputs and labels to the device (GPU or CPU)\n",
    "                inputs = inputs.to(device)\n",
    "                labels = labels.to(device)\n",
    "\n",
    "                # Forward pass: compute the model output\n",
    "                outputs = model(inputs)\n",
    "                # Get the predicted class (with the highest score)\n",
    "                _, preds = torch.max(outputs, 1)\n",
    "                # Compute the loss between the predictions and actual labels\n",
    "                loss = criterion(outputs, labels)\n",
    "\n",
    "                # Accumulate the running loss and the number of correct predictions\n",
    "                running_loss += loss.item() * inputs.size(0)\n",
    "                running_corrects += torch.sum(preds == labels.data)\n",
    "\n",
    "        # Compute average validation loss and accuracy for this epoch\n",
    "        val_loss = running_loss / len(val_loader.dataset)\n",
    "        val_acc = running_corrects.float() / len(val_loader.dataset)\n",
    "\n",
    "        # Print the results for the current epoch\n",
    "        print(f'Epoch [{epoch+1}/{num_epochs}], train loss: {train_loss:.4f}, train acc: {train_acc:.4f}, val loss: {val_loss:.4f}, val acc: {val_acc:.4f}')"
   ]
  },
  {
   "cell_type": "code",
   "execution_count": 31,
   "id": "df85e827-8692-42e7-9773-44f12a8096b1",
   "metadata": {},
   "outputs": [
    {
     "name": "stdout",
     "output_type": "stream",
     "text": [
      "Epoch [1/5], train loss: 0.4026, train acc: 0.8399, val loss: 0.4275, val acc: 0.7891\n",
      "Epoch [2/5], train loss: 0.3662, train acc: 0.8586, val loss: 0.4066, val acc: 0.8281\n",
      "Epoch [3/5], train loss: 0.3589, train acc: 0.8705, val loss: 0.3874, val acc: 0.8438\n",
      "Epoch [4/5], train loss: 0.3340, train acc: 0.9012, val loss: 0.3820, val acc: 0.8594\n",
      "Epoch [5/5], train loss: 0.3498, train acc: 0.8620, val loss: 0.3701, val acc: 0.8516\n"
     ]
    }
   ],
   "source": [
    "model = model.to(device)\n",
    "train(model, train_loader, val_loader, criterion, optimizer, num_epochs=5)"
   ]
  },
  {
   "cell_type": "code",
   "execution_count": 34,
   "id": "16877ae0-2362-403c-8289-768307527b39",
   "metadata": {},
   "outputs": [],
   "source": [
    "import time\n",
    "from datetime import datetime\n",
    "import torch\n",
    "from sklearn.metrics import accuracy_score, precision_recall_fscore_support, confusion_matrix\n",
    "\n",
    "def evaluate_model(model, test_loader, device, hyperparams=None, log_file=\"/data/sg2121/fypdataset/dataset/analysis/training_logfile.txt\"):\n",
    "    correct_pred = {classname: 0 for classname in test_loader.dataset.classes}\n",
    "    total_pred = {classname: 0 for classname in test_loader.dataset.classes}\n",
    "\n",
    "    model.eval()\n",
    "    all_labels = []\n",
    "    all_preds = []\n",
    "\n",
    "    start_time = time.time()\n",
    "\n",
    "    with torch.no_grad():\n",
    "        for inputs, labels in test_loader:\n",
    "            inputs = inputs.to(device)\n",
    "            labels = labels.to(device)\n",
    "\n",
    "            outputs = model(inputs)\n",
    "            _, preds = torch.max(outputs, 1)\n",
    "\n",
    "            all_labels.extend(labels.cpu().numpy())\n",
    "            all_preds.extend(preds.cpu().numpy())\n",
    "\n",
    "            for label, prediction in zip(labels, preds):\n",
    "                classname = test_loader.dataset.classes[label]\n",
    "                if label == prediction:\n",
    "                    correct_pred[classname] += 1\n",
    "                total_pred[classname] += 1\n",
    "\n",
    "    end_time = time.time()\n",
    "    total_inference_time = end_time - start_time\n",
    "    avg_inference_time = total_inference_time / len(test_loader.dataset)\n",
    "\n",
    "    accuracy_per_class = {\n",
    "        classname: correct_pred[classname] / total_pred[classname]\n",
    "        if total_pred[classname] > 0 else 0\n",
    "        for classname in test_loader.dataset.classes\n",
    "    }\n",
    "\n",
    "    overall_accuracy = accuracy_score(all_labels, all_preds)\n",
    "    precision, recall, f1, _ = precision_recall_fscore_support(all_labels, all_preds, average=None, labels=[0, 1])\n",
    "    cm = confusion_matrix(all_labels, all_preds)\n",
    "\n",
    "    fpr = {}\n",
    "    for i, classname in enumerate(test_loader.dataset.classes):\n",
    "        FP = cm[:, i].sum() - cm[i, i]\n",
    "        TN = cm.sum() - (cm[i, :].sum() + cm[:, i].sum() - cm[i, i])\n",
    "        fpr[classname] = FP / (FP + TN) if (FP + TN) > 0 else 0\n",
    "\n",
    "    timestamp = datetime.now().strftime(\"%Y-%m-%d %H:%M:%S\")\n",
    "    log_lines = [f\"===== Evaluation at {timestamp} =====\\n\"]\n",
    "\n",
    "    # Log hyperparameters\n",
    "    log_lines.append(\"Hyperparameters:\")\n",
    "    if hyperparams:\n",
    "        for key, value in hyperparams.items():\n",
    "            log_lines.append(f\"{key}: {value}\")\n",
    "    else:\n",
    "        log_lines.append(\"No hyperparameters provided.\")\n",
    "    log_lines.append(\"\")\n",
    "\n",
    "    # Log results\n",
    "    log_lines.append(\"Accuracy per class:\")\n",
    "    for classname, acc in accuracy_per_class.items():\n",
    "        log_lines.append(f\"{classname}: {acc:.4f}\")\n",
    "    log_lines.append(\"\\nPrecision, Recall, F1:\")\n",
    "    for i, classname in enumerate(test_loader.dataset.classes):\n",
    "        log_lines.append(f\"{classname} → Precision: {precision[i]:.4f}, Recall: {recall[i]:.4f}, F1: {f1[i]:.4f}\")\n",
    "    log_lines.append(\"\\nFalse Positive Rate:\")\n",
    "    for classname, rate in fpr.items():\n",
    "        log_lines.append(f\"{classname}: {rate:.4f}\")\n",
    "    log_lines.append(f\"\\nOverall Accuracy: {overall_accuracy:.4f}\")\n",
    "    log_lines.append(f\"Average Inference Time per Sample: {avg_inference_time:.6f} seconds\")\n",
    "    log_lines.append(\"=\" * 40 + \"\\n\\n\")\n",
    "\n",
    "    # Print and save\n",
    "    print(\"\\n\".join(log_lines))\n",
    "    with open(log_file, \"a\") as f:\n",
    "        f.write(\"\\n\".join(log_lines))\n"
   ]
  },
  {
   "cell_type": "code",
   "execution_count": 38,
   "id": "fab43cab-32a6-4f62-b748-2c6c3651ce78",
   "metadata": {},
   "outputs": [
    {
     "name": "stdout",
     "output_type": "stream",
     "text": [
      "===== Evaluation at 2025-04-23 17:25:35 =====\n",
      "\n",
      "Hyperparameters:\n",
      "batch_size: 32\n",
      "learning_rate: 0.001\n",
      "epochs: 5\n",
      "optimizer: SGD\n",
      "model: ResNet\n",
      "\n",
      "Accuracy per class:\n",
      "ai: 0.8276\n",
      "human: 0.8857\n",
      "\n",
      "Precision, Recall, F1:\n",
      "ai → Precision: 0.8571, Recall: 0.8276, F1: 0.8421\n",
      "human → Precision: 0.8611, Recall: 0.8857, F1: 0.8732\n",
      "\n",
      "False Positive Rate:\n",
      "ai: 0.1143\n",
      "human: 0.1724\n",
      "\n",
      "Overall Accuracy: 0.8594\n",
      "Average Inference Time per Sample: 0.012542 seconds\n",
      "========================================\n",
      "\n",
      "\n"
     ]
    }
   ],
   "source": [
    "hyperparams = {\n",
    "    \"batch_size\": 32,\n",
    "    \"learning_rate\": 0.001,\n",
    "    \"epochs\": 5,\n",
    "    \"optimizer\": \"SGD\",\n",
    "    \"model\": model.__class__.__name__,\n",
    "}\n",
    "\n",
    "evaluate_model(model, test_loader, device, hyperparams=hyperparams)\n"
   ]
  },
  {
   "cell_type": "code",
   "execution_count": null,
   "id": "1ed1c5e6-f878-46b7-ab31-2d0fa6405b4d",
   "metadata": {},
   "outputs": [],
   "source": []
  }
 ],
 "metadata": {
  "kernelspec": {
   "display_name": "Python 3 (ipykernel)",
   "language": "python",
   "name": "python3"
  },
  "language_info": {
   "codemirror_mode": {
    "name": "ipython",
    "version": 3
   },
   "file_extension": ".py",
   "mimetype": "text/x-python",
   "name": "python",
   "nbconvert_exporter": "python",
   "pygments_lexer": "ipython3",
   "version": "3.12.3"
  }
 },
 "nbformat": 4,
 "nbformat_minor": 5
}
